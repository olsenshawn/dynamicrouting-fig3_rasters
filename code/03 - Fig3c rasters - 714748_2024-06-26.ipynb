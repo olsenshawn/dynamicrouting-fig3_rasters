{
 "cells": [
  {
   "cell_type": "code",
   "execution_count": 1,
   "id": "b5924a2c-0484-46f1-9e35-1f5e6194b7df",
   "metadata": {
    "tags": []
   },
   "outputs": [],
   "source": [
    "import npc_sessions_cache.figures.paper2.fig3c as fig3c\n",
    "import matplotlib.pyplot as plt\n",
    "import utils"
   ]
  },
  {
   "cell_type": "code",
   "execution_count": 2,
   "id": "97c34abf-f76e-4a2d-824a-67f285e53720",
   "metadata": {
    "tags": []
   },
   "outputs": [
    {
     "name": "stderr",
     "output_type": "stream",
     "text": [
      "/opt/conda/lib/python3.10/site-packages/hdmf/spec/namespace.py:535: UserWarning: Ignoring cached namespace 'ndx-events' version 0.2.0 because version 0.2.1 is already loaded.\n",
      "  warn(\"Ignoring cached namespace '%s' version %s because version %s is already loaded.\"\n"
     ]
    },
    {
     "data": {
      "text/plain": [
       "array(['probeA', 'probeB', 'probeC', 'probeE', 'probeF'], dtype=object)"
      ]
     },
     "execution_count": 2,
     "metadata": {},
     "output_type": "execute_result"
    }
   ],
   "source": [
    "session_name = '714748_2024-06-26'\n",
    "nwb = utils.get_nwb(session_name)\n",
    "units = nwb.units.to_dataframe()\n",
    "units.electrode_group_name.unique()"
   ]
  },
  {
   "cell_type": "code",
   "execution_count": 3,
   "id": "490f9cfe-c6b4-494a-a45f-b025a604c6dd",
   "metadata": {
    "tags": []
   },
   "outputs": [
    {
     "data": {
      "text/plain": [
       "structure\n",
       "SSp             472\n",
       "CP              344\n",
       "MOs             260\n",
       "VISp            235\n",
       "ProS            191\n",
       "DG              150\n",
       "LGv             104\n",
       "RSPv             65\n",
       "APN              41\n",
       "PPT              38\n",
       "MB               32\n",
       "MOp              31\n",
       "GPe              23\n",
       "NOT              17\n",
       "MRN              14\n",
       "SNr              12\n",
       "FF               11\n",
       "TH                9\n",
       "SCig              7\n",
       "SNc               7\n",
       "SPFp              6\n",
       "VL                3\n",
       "out of brain      2\n",
       "IGL               1\n",
       "Name: count, dtype: int64"
      ]
     },
     "execution_count": 3,
     "metadata": {},
     "output_type": "execute_result"
    }
   ],
   "source": [
    "units.structure.value_counts()"
   ]
  },
  {
   "cell_type": "code",
   "execution_count": 4,
   "id": "94b62cc8-b39d-4ae7-81d2-26d82d29ee22",
   "metadata": {},
   "outputs": [
    {
     "data": {
      "text/plain": [
       "structure\n",
       "SSp     267\n",
       "MOs     189\n",
       "CP      169\n",
       "ProS    127\n",
       "VISp     96\n",
       "DG       71\n",
       "RSPv     52\n",
       "LGv      52\n",
       "MB       27\n",
       "PPT      27\n",
       "APN      23\n",
       "GPe      21\n",
       "MOp      18\n",
       "NOT      13\n",
       "MRN      11\n",
       "FF        9\n",
       "SNr       9\n",
       "SNc       6\n",
       "SCig      4\n",
       "SPFp      2\n",
       "TH        1\n",
       "Name: count, dtype: int64"
      ]
     },
     "execution_count": 4,
     "metadata": {},
     "output_type": "execute_result"
    }
   ],
   "source": [
    "df = units[units.default_qc]\n",
    "df.structure.value_counts()"
   ]
  },
  {
   "cell_type": "code",
   "execution_count": 6,
   "id": "dc9edbab-ee47-4e88-9e0e-64ee0ee3b3a4",
   "metadata": {
    "tags": []
   },
   "outputs": [
    {
     "data": {
      "text/plain": [
       "structure\n",
       "MOs     189\n",
       "CP      169\n",
       "VISp     96\n",
       "Name: count, dtype: int64"
      ]
     },
     "execution_count": 6,
     "metadata": {},
     "output_type": "execute_result"
    }
   ],
   "source": [
    "df = df[df['structure'].isin(['VISp','CP','MOs'])]\n",
    "df.structure.value_counts()"
   ]
  },
  {
   "cell_type": "code",
   "execution_count": 9,
   "id": "7cb89a20-c1df-4153-9773-4c3822ec1875",
   "metadata": {
    "tags": []
   },
   "outputs": [],
   "source": [
    "import gc\n",
    "import pathlib\n",
    "\n",
    "for unit_id in df.unit_id.values[:]:\n",
    "    fig_name = '/results/fig3c_' + session_name + '_' + str(unit_id) + '.png'\n",
    "    if pathlib.Path(fig_name).exists():\n",
    "        continue\n",
    "    fig = fig3c.plot(unit_id,session=nwb,use_session_obj=True);\n",
    "    fig.savefig(fig_name,dpi=400)\n",
    "    fig.clf()\n",
    "    plt.close()\n",
    "    del fig\n",
    "    gc.collect()"
   ]
  },
  {
   "cell_type": "code",
   "execution_count": null,
   "id": "27448371-30e5-4cb4-a5e2-75c03aa51692",
   "metadata": {},
   "outputs": [],
   "source": []
  }
 ],
 "metadata": {
  "kernelspec": {
   "display_name": "Python 3 (ipykernel)",
   "language": "python",
   "name": "python3"
  },
  "language_info": {
   "codemirror_mode": {
    "name": "ipython",
    "version": 3
   },
   "file_extension": ".py",
   "mimetype": "text/x-python",
   "name": "python",
   "nbconvert_exporter": "python",
   "pygments_lexer": "ipython3",
   "version": "3.10.12"
  }
 },
 "nbformat": 4,
 "nbformat_minor": 5
}
