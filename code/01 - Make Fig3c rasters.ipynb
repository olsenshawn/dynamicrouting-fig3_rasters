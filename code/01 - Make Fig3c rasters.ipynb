{
 "cells": [
  {
   "cell_type": "code",
   "execution_count": 1,
   "id": "90af4fb4-e79e-45e5-9338-019a10835a6e",
   "metadata": {
    "tags": []
   },
   "outputs": [],
   "source": [
    "import npc_sessions_cache.figures.paper2.fig3c as fig3c\n",
    "import matplotlib.pyplot as plt\n",
    "import utils"
   ]
  },
  {
   "cell_type": "code",
   "execution_count": null,
   "id": "0f67054b-0621-40bd-82f2-fd9ddc424f52",
   "metadata": {},
   "outputs": [],
   "source": []
  },
  {
   "cell_type": "code",
   "execution_count": 2,
   "id": "ff248a75-21f6-478a-93cf-ab8e59fd89c8",
   "metadata": {
    "tags": []
   },
   "outputs": [
    {
     "data": {
      "text/plain": [
       "\u001b[0;31mSignature:\u001b[0m\n",
       "\u001b[0mfig3c\u001b[0m\u001b[0;34m.\u001b[0m\u001b[0mplot\u001b[0m\u001b[0;34m(\u001b[0m\u001b[0;34m\u001b[0m\n",
       "\u001b[0;34m\u001b[0m    \u001b[0munit_id\u001b[0m\u001b[0;34m:\u001b[0m \u001b[0mstr\u001b[0m\u001b[0;34m,\u001b[0m\u001b[0;34m\u001b[0m\n",
       "\u001b[0;34m\u001b[0m    \u001b[0mstim_names\u001b[0m\u001b[0;34m=\u001b[0m\u001b[0;34m(\u001b[0m\u001b[0;34m'vis1'\u001b[0m\u001b[0;34m,\u001b[0m \u001b[0;34m'sound1'\u001b[0m\u001b[0;34m,\u001b[0m \u001b[0;34m'vis2'\u001b[0m\u001b[0;34m,\u001b[0m \u001b[0;34m'sound2'\u001b[0m\u001b[0;34m)\u001b[0m\u001b[0;34m,\u001b[0m\u001b[0;34m\u001b[0m\n",
       "\u001b[0;34m\u001b[0m    \u001b[0mwith_instruction_trial_whitespace\u001b[0m\u001b[0;34m:\u001b[0m \u001b[0mbool\u001b[0m \u001b[0;34m=\u001b[0m \u001b[0;32mFalse\u001b[0m\u001b[0;34m,\u001b[0m\u001b[0;34m\u001b[0m\n",
       "\u001b[0;34m\u001b[0m    \u001b[0mmax_psth_spike_rate\u001b[0m\u001b[0;34m:\u001b[0m \u001b[0mfloat\u001b[0m \u001b[0;34m=\u001b[0m \u001b[0;36m60\u001b[0m\u001b[0;34m,\u001b[0m\u001b[0;34m\u001b[0m\n",
       "\u001b[0;34m\u001b[0m    \u001b[0muse_session_obj\u001b[0m\u001b[0;34m:\u001b[0m \u001b[0mbool\u001b[0m \u001b[0;34m=\u001b[0m \u001b[0;32mFalse\u001b[0m\u001b[0;34m,\u001b[0m\u001b[0;34m\u001b[0m\n",
       "\u001b[0;34m\u001b[0m    \u001b[0msession\u001b[0m\u001b[0;34m=\u001b[0m\u001b[0;32mNone\u001b[0m\u001b[0;34m,\u001b[0m\u001b[0;34m\u001b[0m\n",
       "\u001b[0;34m\u001b[0m    \u001b[0mxlim_0\u001b[0m\u001b[0;34m=\u001b[0m\u001b[0;34m-\u001b[0m\u001b[0;36m1.0\u001b[0m\u001b[0;34m,\u001b[0m\u001b[0;34m\u001b[0m\n",
       "\u001b[0;34m\u001b[0m    \u001b[0mxlim_1\u001b[0m\u001b[0;34m=\u001b[0m\u001b[0;36m2.0\u001b[0m\u001b[0;34m,\u001b[0m\u001b[0;34m\u001b[0m\n",
       "\u001b[0;34m\u001b[0m\u001b[0;34m)\u001b[0m \u001b[0;34m->\u001b[0m \u001b[0mmatplotlib\u001b[0m\u001b[0;34m.\u001b[0m\u001b[0mfigure\u001b[0m\u001b[0;34m.\u001b[0m\u001b[0mFigure\u001b[0m\u001b[0;34m\u001b[0m\u001b[0;34m\u001b[0m\u001b[0m\n",
       "\u001b[0;31mDocstring:\u001b[0m <no docstring>\n",
       "\u001b[0;31mFile:\u001b[0m      ~/capsule/code/npc_sessions_cache/src/npc_sessions_cache/figures/paper2/fig3c.py\n",
       "\u001b[0;31mType:\u001b[0m      function"
      ]
     },
     "metadata": {},
     "output_type": "display_data"
    }
   ],
   "source": [
    "fig3c.plot?"
   ]
  },
  {
   "cell_type": "code",
   "execution_count": 2,
   "id": "dcf14dea-d78d-411b-be14-26752df1aeed",
   "metadata": {
    "tags": []
   },
   "outputs": [],
   "source": [
    "session_name = '662892_2023-08-24'"
   ]
  },
  {
   "cell_type": "code",
   "execution_count": 3,
   "id": "81accde0-2066-4af0-a1a1-9598a0c4f003",
   "metadata": {
    "tags": []
   },
   "outputs": [],
   "source": [
    "df = utils.get_df('units').to_pandas()"
   ]
  },
  {
   "cell_type": "code",
   "execution_count": 4,
   "id": "6af58d83-f521-49d2-9948-ff4f55f516b4",
   "metadata": {
    "tags": []
   },
   "outputs": [
    {
     "data": {
      "text/plain": [
       "(542890, 59)"
      ]
     },
     "execution_count": 4,
     "metadata": {},
     "output_type": "execute_result"
    }
   ],
   "source": [
    "df.shape"
   ]
  },
  {
   "cell_type": "code",
   "execution_count": 5,
   "id": "b7ea468c-90ba-4b17-a608-aad3d9c190be",
   "metadata": {
    "tags": []
   },
   "outputs": [],
   "source": [
    "df = df[df.session_id==session_name]"
   ]
  },
  {
   "cell_type": "code",
   "execution_count": 6,
   "id": "c8be7b8f-3b4e-4d74-86bd-4c47578a5d40",
   "metadata": {
    "tags": []
   },
   "outputs": [],
   "source": [
    "df = df[df.default_qc]"
   ]
  },
  {
   "cell_type": "code",
   "execution_count": 7,
   "id": "8ba2f38c-c814-4ad2-9d1d-516859461534",
   "metadata": {
    "tags": []
   },
   "outputs": [
    {
     "data": {
      "text/plain": [
       "(768, 59)"
      ]
     },
     "execution_count": 7,
     "metadata": {},
     "output_type": "execute_result"
    }
   ],
   "source": [
    "df.shape"
   ]
  },
  {
   "cell_type": "code",
   "execution_count": 8,
   "id": "02c577f7-3e74-475c-8c38-44714a4b19f8",
   "metadata": {
    "tags": []
   },
   "outputs": [
    {
     "data": {
      "text/plain": [
       "array(['AId', 'AIv', 'CEAm', 'GPe', 'MEA', 'MOs', 'NLOT1', 'NLOT2', 'OLF',\n",
       "       'ORBl', 'PAL', 'PIR', 'STR', 'lot', 'root'], dtype=object)"
      ]
     },
     "execution_count": 8,
     "metadata": {},
     "output_type": "execute_result"
    }
   ],
   "source": [
    "df.structure.unique()"
   ]
  },
  {
   "cell_type": "code",
   "execution_count": 9,
   "id": "7630cd97-7d68-4576-a38f-2769b0263b7e",
   "metadata": {
    "tags": []
   },
   "outputs": [],
   "source": [
    "df_areas = df[df['structure'].isin(\n",
    "    ['AId', 'AIv', 'CEAm', 'GPe', 'MEA', 'MOs', 'NLOT1', 'NLOT2', 'OLF','ORBl', 'PAL', 'PIR', 'STR'])]"
   ]
  },
  {
   "cell_type": "code",
   "execution_count": 18,
   "id": "5388ff47-557b-43e3-aa2f-21ecff14aa78",
   "metadata": {
    "tags": []
   },
   "outputs": [
    {
     "data": {
      "text/plain": [
       "structure\n",
       "PIR      385\n",
       "ORBl     198\n",
       "MOs       61\n",
       "AIv       24\n",
       "AId       17\n",
       "CEAm       5\n",
       "NLOT2      5\n",
       "MEA        4\n",
       "GPe        3\n",
       "PAL        2\n",
       "NLOT1      1\n",
       "OLF        1\n",
       "STR        1\n",
       "Name: count, dtype: int64"
      ]
     },
     "execution_count": 18,
     "metadata": {},
     "output_type": "execute_result"
    }
   ],
   "source": [
    "df_areas.structure.value_counts()"
   ]
  },
  {
   "cell_type": "code",
   "execution_count": 11,
   "id": "faa792c6-7133-4876-902f-da0e4b60cf48",
   "metadata": {
    "tags": []
   },
   "outputs": [
    {
     "name": "stderr",
     "output_type": "stream",
     "text": [
      "/opt/conda/lib/python3.10/site-packages/hdmf/spec/namespace.py:535: UserWarning: Ignoring cached namespace 'ndx-events' version 0.2.0 because version 0.2.1 is already loaded.\n",
      "  warn(\"Ignoring cached namespace '%s' version %s because version %s is already loaded.\"\n"
     ]
    }
   ],
   "source": [
    "nwb = utils.get_nwb(session_name)"
   ]
  },
  {
   "cell_type": "code",
   "execution_count": 12,
   "id": "35852739-b43f-4848-9b2a-1582f13630e7",
   "metadata": {
    "tags": []
   },
   "outputs": [],
   "source": [
    "import gc\n",
    "import pathlib\n",
    "\n",
    "for unit_id in df_areas.unit_id.values[:]:\n",
    "    fig_name = '/results/fig3c_' + str(unit_id) + '.png'\n",
    "    if pathlib.Path(fig_name).exists():\n",
    "        continue\n",
    "    fig = fig3c.plot(unit_id,session=nwb,use_session_obj=True);\n",
    "    fig.savefig(fig_name,dpi=400)\n",
    "    fig.clf()\n",
    "    plt.close()\n",
    "    del fig\n",
    "    gc.collect()"
   ]
  },
  {
   "cell_type": "code",
   "execution_count": null,
   "id": "82f0d042-8960-48a9-91b3-d0a113b7e621",
   "metadata": {},
   "outputs": [],
   "source": []
  }
 ],
 "metadata": {
  "kernelspec": {
   "display_name": "Python 3 (ipykernel)",
   "language": "python",
   "name": "python3"
  },
  "language_info": {
   "codemirror_mode": {
    "name": "ipython",
    "version": 3
   },
   "file_extension": ".py",
   "mimetype": "text/x-python",
   "name": "python",
   "nbconvert_exporter": "python",
   "pygments_lexer": "ipython3",
   "version": "3.10.12"
  }
 },
 "nbformat": 4,
 "nbformat_minor": 5
}
