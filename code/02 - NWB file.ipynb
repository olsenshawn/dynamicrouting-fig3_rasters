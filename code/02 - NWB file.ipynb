{
 "cells": [
  {
   "cell_type": "code",
   "execution_count": 1,
   "id": "b5924a2c-0484-46f1-9e35-1f5e6194b7df",
   "metadata": {
    "tags": []
   },
   "outputs": [],
   "source": [
    "import utils"
   ]
  },
  {
   "cell_type": "code",
   "execution_count": 2,
   "id": "e1e6f189-0f07-4097-8ba6-5a24ecd76b2a",
   "metadata": {
    "tags": []
   },
   "outputs": [],
   "source": [
    "session_name = '662892_2023-08-24'"
   ]
  },
  {
   "cell_type": "code",
   "execution_count": 3,
   "id": "be177e89-665f-4baa-acda-7953d5045b8a",
   "metadata": {
    "tags": []
   },
   "outputs": [],
   "source": [
    "nwb = utils.get_nwb(session_name)"
   ]
  },
  {
   "cell_type": "code",
   "execution_count": 11,
   "id": "5d0b8218-cd64-4186-9c3d-6ed36a42f9c2",
   "metadata": {
    "tags": []
   },
   "outputs": [],
   "source": [
    "units = nwb.units.to_dataframe()"
   ]
  },
  {
   "cell_type": "code",
   "execution_count": 16,
   "id": "00f1f335-b953-4e3a-a9c4-494c81a24560",
   "metadata": {
    "tags": []
   },
   "outputs": [
    {
     "data": {
      "text/plain": [
       "array(['probeA', 'probeB'], dtype=object)"
      ]
     },
     "execution_count": 16,
     "metadata": {},
     "output_type": "execute_result"
    }
   ],
   "source": [
    "units.electrode_group_name.unique()"
   ]
  },
  {
   "cell_type": "code",
   "execution_count": null,
   "id": "493081b2-c3af-467a-9ece-586fddceb969",
   "metadata": {},
   "outputs": [],
   "source": []
  },
  {
   "cell_type": "code",
   "execution_count": 17,
   "id": "97c34abf-f76e-4a2d-824a-67f285e53720",
   "metadata": {
    "tags": []
   },
   "outputs": [
    {
     "data": {
      "text/plain": [
       "array(['probeA', 'probeB', 'probeC', 'probeE', 'probeF'], dtype=object)"
      ]
     },
     "execution_count": 17,
     "metadata": {},
     "output_type": "execute_result"
    }
   ],
   "source": [
    "session_name = '714748_2024-06-26'\n",
    "nwb = utils.get_nwb(session_name)\n",
    "units = nwb.units.to_dataframe()\n",
    "units.electrode_group_name.unique()"
   ]
  },
  {
   "cell_type": "code",
   "execution_count": 18,
   "id": "490f9cfe-c6b4-494a-a45f-b025a604c6dd",
   "metadata": {
    "tags": []
   },
   "outputs": [
    {
     "data": {
      "text/plain": [
       "structure\n",
       "SSp             472\n",
       "CP              344\n",
       "MOs             260\n",
       "VISp            235\n",
       "ProS            191\n",
       "DG              150\n",
       "LGv             104\n",
       "RSPv             65\n",
       "APN              41\n",
       "PPT              38\n",
       "MB               32\n",
       "MOp              31\n",
       "GPe              23\n",
       "NOT              17\n",
       "MRN              14\n",
       "SNr              12\n",
       "FF               11\n",
       "TH                9\n",
       "SCig              7\n",
       "SNc               7\n",
       "SPFp              6\n",
       "VL                3\n",
       "out of brain      2\n",
       "IGL               1\n",
       "Name: count, dtype: int64"
      ]
     },
     "execution_count": 18,
     "metadata": {},
     "output_type": "execute_result"
    }
   ],
   "source": [
    "units.structure.value_counts()"
   ]
  },
  {
   "cell_type": "code",
   "execution_count": null,
   "id": "94b62cc8-b39d-4ae7-81d2-26d82d29ee22",
   "metadata": {},
   "outputs": [],
   "source": []
  }
 ],
 "metadata": {
  "kernelspec": {
   "display_name": "Python 3 (ipykernel)",
   "language": "python",
   "name": "python3"
  },
  "language_info": {
   "codemirror_mode": {
    "name": "ipython",
    "version": 3
   },
   "file_extension": ".py",
   "mimetype": "text/x-python",
   "name": "python",
   "nbconvert_exporter": "python",
   "pygments_lexer": "ipython3",
   "version": "3.10.12"
  }
 },
 "nbformat": 4,
 "nbformat_minor": 5
}
